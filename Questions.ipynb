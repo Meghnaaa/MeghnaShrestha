{
 "cells": [
  {
   "cell_type": "markdown",
   "metadata": {},
   "source": [
    "# Q. You are given a string and your task is to swap cases. In other words, convert all lowercase letters to uppercase letters and vice versa.\n",
    "\n",
    "input: 'This is mE 123'\n",
    "\n",
    "output: 'tHIS IS Me 123'"
   ]
  },
  {
   "cell_type": "code",
   "execution_count": 1,
   "metadata": {},
   "outputs": [
    {
     "name": "stdout",
     "output_type": "stream",
     "text": [
      "Ënter a sentence : hello WORLD PythON 45 \n"
     ]
    },
    {
     "data": {
      "text/plain": [
       "'HELLO world pYTHon 45 '"
      ]
     },
     "execution_count": 1,
     "metadata": {},
     "output_type": "execute_result"
    }
   ],
   "source": [
    "\n",
    "def swap_case(my_input):\n",
    "    output = \"\"\n",
    "    for ch in my_input:\n",
    "        if ch.islower():\n",
    "            output += ch.upper()\n",
    "        else:\n",
    "            output += ch.lower()\n",
    "    return output\n",
    "\n",
    "sentence =input(\"Ënter a sentence : \")\n",
    "swap_case(sentence)\n"
   ]
  },
  {
   "cell_type": "code",
   "execution_count": 2,
   "metadata": {},
   "outputs": [
    {
     "name": "stdout",
     "output_type": "stream",
     "text": [
      "HELLO world pYTHon 45 \n"
     ]
    }
   ],
   "source": [
    "#list comprehension\n",
    "convert = [ch.lower() if ch.isupper() else ch.upper() for ch in sentence]\n",
    "print(''.join(convert))"
   ]
  },
  {
   "cell_type": "markdown",
   "metadata": {},
   "source": [
    "# Q. The user enters a string and a substring. You have to print the number of times that the substring occurs in the given string. String traversal will take place from left to right, not from right to left.\n",
    "\n",
    "Input: \n",
    "\n",
    "ABCDCDC\n",
    "\n",
    "CDC\n",
    "\n",
    "Output:\n",
    "\n",
    "2"
   ]
  },
  {
   "cell_type": "code",
   "execution_count": 1,
   "metadata": {
    "scrolled": false
   },
   "outputs": [
    {
     "name": "stdout",
     "output_type": "stream",
     "text": [
      "2\n"
     ]
    }
   ],
   "source": [
    "string = 'ABCDCDC'\n",
    "substring = 'CDC'\n",
    "counter = 0\n",
    "\n",
    "for i in range(0,len(string)):\n",
    "    if string[i] == substring[0]:\n",
    "        if string[i:i+len(substring)] ==substring:\n",
    "            counter +=1\n",
    "print(counter)"
   ]
  },
  {
   "cell_type": "code",
   "execution_count": null,
   "metadata": {},
   "outputs": [],
   "source": []
  }
 ],
 "metadata": {
  "kernelspec": {
   "display_name": "Python 3",
   "language": "python",
   "name": "python3"
  },
  "language_info": {
   "codemirror_mode": {
    "name": "ipython",
    "version": 3
   },
   "file_extension": ".py",
   "mimetype": "text/x-python",
   "name": "python",
   "nbconvert_exporter": "python",
   "pygments_lexer": "ipython3",
   "version": "3.6.5"
  }
 },
 "nbformat": 4,
 "nbformat_minor": 2
}
